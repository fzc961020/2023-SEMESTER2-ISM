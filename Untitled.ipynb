{
 "cells": [
  {
   "cell_type": "code",
   "execution_count": 1,
   "id": "df2bbe58-4587-43dd-8f81-17b3c3ed19d6",
   "metadata": {},
   "outputs": [
    {
     "name": "stdout",
     "output_type": "stream",
     "text": [
      "Requirement already satisfied: Open3D in /opt/conda/envs/sds2021/lib/python3.9/site-packages (0.16.0)\n",
      "Requirement already satisfied: matplotlib>=3 in /opt/conda/envs/sds2021/lib/python3.9/site-packages (from Open3D) (3.4.2)\n",
      "Requirement already satisfied: numpy>1.15 in /opt/conda/envs/sds2021/lib/python3.9/site-packages (from Open3D) (1.21.1)\n",
      "Requirement already satisfied: pillow>=8.2.0 in /opt/conda/envs/sds2021/lib/python3.9/site-packages (from Open3D) (8.2.0)\n",
      "Requirement already satisfied: pyquaternion in /opt/conda/envs/sds2021/lib/python3.9/site-packages (from Open3D) (0.9.9)\n",
      "Requirement already satisfied: ipywidgets>=7.6.0 in /opt/conda/envs/sds2021/lib/python3.9/site-packages (from Open3D) (7.6.3)\n",
      "Requirement already satisfied: tqdm in /opt/conda/envs/sds2021/lib/python3.9/site-packages (from Open3D) (4.61.2)\n",
      "Requirement already satisfied: nbformat==5.5.0 in /opt/conda/envs/sds2021/lib/python3.9/site-packages (from Open3D) (5.5.0)\n",
      "Requirement already satisfied: pyyaml>=5.4.1 in /opt/conda/envs/sds2021/lib/python3.9/site-packages (from Open3D) (5.4.1)\n",
      "Requirement already satisfied: scikit-learn>=0.21 in /opt/conda/envs/sds2021/lib/python3.9/site-packages (from Open3D) (1.2.0)\n",
      "Requirement already satisfied: pandas>=1.0 in /opt/conda/envs/sds2021/lib/python3.9/site-packages (from Open3D) (1.3.0)\n",
      "Requirement already satisfied: addict in /opt/conda/envs/sds2021/lib/python3.9/site-packages (from Open3D) (2.4.0)\n",
      "Requirement already satisfied: dash>=2.6.0 in /opt/conda/envs/sds2021/lib/python3.9/site-packages (from Open3D) (2.7.1)\n",
      "Requirement already satisfied: configargparse in /opt/conda/envs/sds2021/lib/python3.9/site-packages (from Open3D) (1.5.3)\n",
      "Requirement already satisfied: jsonschema>=2.6 in /opt/conda/envs/sds2021/lib/python3.9/site-packages (from nbformat==5.5.0->Open3D) (3.2.0)\n",
      "Requirement already satisfied: fastjsonschema in /opt/conda/envs/sds2021/lib/python3.9/site-packages (from nbformat==5.5.0->Open3D) (2.16.2)\n",
      "Requirement already satisfied: jupyter_core in /opt/conda/envs/sds2021/lib/python3.9/site-packages (from nbformat==5.5.0->Open3D) (4.7.1)\n",
      "Requirement already satisfied: traitlets>=5.1 in /opt/conda/envs/sds2021/lib/python3.9/site-packages (from nbformat==5.5.0->Open3D) (5.8.1)\n",
      "Requirement already satisfied: Flask>=1.0.4 in /opt/conda/envs/sds2021/lib/python3.9/site-packages (from dash>=2.6.0->Open3D) (2.2.2)\n",
      "Requirement already satisfied: dash-html-components==2.0.0 in /opt/conda/envs/sds2021/lib/python3.9/site-packages (from dash>=2.6.0->Open3D) (2.0.0)\n",
      "Requirement already satisfied: dash-core-components==2.0.0 in /opt/conda/envs/sds2021/lib/python3.9/site-packages (from dash>=2.6.0->Open3D) (2.0.0)\n",
      "Requirement already satisfied: dash-table==5.0.0 in /opt/conda/envs/sds2021/lib/python3.9/site-packages (from dash>=2.6.0->Open3D) (5.0.0)\n",
      "Requirement already satisfied: plotly>=5.0.0 in /opt/conda/envs/sds2021/lib/python3.9/site-packages (from dash>=2.6.0->Open3D) (5.1.0)\n",
      "Requirement already satisfied: click>=8.0 in /opt/conda/envs/sds2021/lib/python3.9/site-packages (from Flask>=1.0.4->dash>=2.6.0->Open3D) (8.1.3)\n",
      "Requirement already satisfied: importlib-metadata>=3.6.0 in /opt/conda/envs/sds2021/lib/python3.9/site-packages (from Flask>=1.0.4->dash>=2.6.0->Open3D) (4.6.1)\n",
      "Requirement already satisfied: itsdangerous>=2.0 in /opt/conda/envs/sds2021/lib/python3.9/site-packages (from Flask>=1.0.4->dash>=2.6.0->Open3D) (2.1.2)\n",
      "Requirement already satisfied: Werkzeug>=2.2.2 in /opt/conda/envs/sds2021/lib/python3.9/site-packages (from Flask>=1.0.4->dash>=2.6.0->Open3D) (2.2.2)\n",
      "Requirement already satisfied: Jinja2>=3.0 in /opt/conda/envs/sds2021/lib/python3.9/site-packages (from Flask>=1.0.4->dash>=2.6.0->Open3D) (3.0.1)\n",
      "Requirement already satisfied: zipp>=0.5 in /opt/conda/envs/sds2021/lib/python3.9/site-packages (from importlib-metadata>=3.6.0->Flask>=1.0.4->dash>=2.6.0->Open3D) (3.5.0)\n",
      "Requirement already satisfied: jupyterlab-widgets>=1.0.0 in /opt/conda/envs/sds2021/lib/python3.9/site-packages (from ipywidgets>=7.6.0->Open3D) (1.0.0)\n",
      "Requirement already satisfied: widgetsnbextension~=3.5.0 in /opt/conda/envs/sds2021/lib/python3.9/site-packages (from ipywidgets>=7.6.0->Open3D) (3.5.1)\n",
      "Requirement already satisfied: ipykernel>=4.5.1 in /opt/conda/envs/sds2021/lib/python3.9/site-packages (from ipywidgets>=7.6.0->Open3D) (6.0.3)\n",
      "Requirement already satisfied: ipython>=4.0.0 in /opt/conda/envs/sds2021/lib/python3.9/site-packages (from ipywidgets>=7.6.0->Open3D) (7.25.0)\n",
      "Requirement already satisfied: jupyter-client<7.0 in /opt/conda/envs/sds2021/lib/python3.9/site-packages (from ipykernel>=4.5.1->ipywidgets>=7.6.0->Open3D) (6.1.12)\n",
      "Requirement already satisfied: debugpy<2.0,>=1.0.0 in /opt/conda/envs/sds2021/lib/python3.9/site-packages (from ipykernel>=4.5.1->ipywidgets>=7.6.0->Open3D) (1.4.0)\n",
      "Requirement already satisfied: tornado<7.0,>=4.2 in /opt/conda/envs/sds2021/lib/python3.9/site-packages (from ipykernel>=4.5.1->ipywidgets>=7.6.0->Open3D) (6.1)\n",
      "Requirement already satisfied: matplotlib-inline<0.2.0,>=0.1.0 in /opt/conda/envs/sds2021/lib/python3.9/site-packages (from ipykernel>=4.5.1->ipywidgets>=7.6.0->Open3D) (0.1.2)\n",
      "Requirement already satisfied: pickleshare in /opt/conda/envs/sds2021/lib/python3.9/site-packages (from ipython>=4.0.0->ipywidgets>=7.6.0->Open3D) (0.7.5)\n",
      "Requirement already satisfied: pexpect>4.3 in /opt/conda/envs/sds2021/lib/python3.9/site-packages (from ipython>=4.0.0->ipywidgets>=7.6.0->Open3D) (4.8.0)\n",
      "Requirement already satisfied: setuptools>=18.5 in /opt/conda/envs/sds2021/lib/python3.9/site-packages (from ipython>=4.0.0->ipywidgets>=7.6.0->Open3D) (49.6.0.post20210108)\n",
      "Requirement already satisfied: prompt-toolkit!=3.0.0,!=3.0.1,<3.1.0,>=2.0.0 in /opt/conda/envs/sds2021/lib/python3.9/site-packages (from ipython>=4.0.0->ipywidgets>=7.6.0->Open3D) (3.0.19)\n",
      "Requirement already satisfied: pygments in /opt/conda/envs/sds2021/lib/python3.9/site-packages (from ipython>=4.0.0->ipywidgets>=7.6.0->Open3D) (2.9.0)\n",
      "Requirement already satisfied: backcall in /opt/conda/envs/sds2021/lib/python3.9/site-packages (from ipython>=4.0.0->ipywidgets>=7.6.0->Open3D) (0.2.0)\n",
      "Requirement already satisfied: jedi>=0.16 in /opt/conda/envs/sds2021/lib/python3.9/site-packages (from ipython>=4.0.0->ipywidgets>=7.6.0->Open3D) (0.18.0)\n",
      "Requirement already satisfied: decorator in /opt/conda/envs/sds2021/lib/python3.9/site-packages (from ipython>=4.0.0->ipywidgets>=7.6.0->Open3D) (4.4.2)\n",
      "Requirement already satisfied: parso<0.9.0,>=0.8.0 in /opt/conda/envs/sds2021/lib/python3.9/site-packages (from jedi>=0.16->ipython>=4.0.0->ipywidgets>=7.6.0->Open3D) (0.8.2)\n",
      "Requirement already satisfied: MarkupSafe>=2.0 in /opt/conda/envs/sds2021/lib/python3.9/site-packages (from Jinja2>=3.0->Flask>=1.0.4->dash>=2.6.0->Open3D) (2.1.1)\n",
      "Requirement already satisfied: pyrsistent>=0.14.0 in /opt/conda/envs/sds2021/lib/python3.9/site-packages (from jsonschema>=2.6->nbformat==5.5.0->Open3D) (0.17.3)\n",
      "Requirement already satisfied: six>=1.11.0 in /opt/conda/envs/sds2021/lib/python3.9/site-packages (from jsonschema>=2.6->nbformat==5.5.0->Open3D) (1.16.0)\n",
      "Requirement already satisfied: attrs>=17.4.0 in /opt/conda/envs/sds2021/lib/python3.9/site-packages (from jsonschema>=2.6->nbformat==5.5.0->Open3D) (21.2.0)\n",
      "Requirement already satisfied: pyzmq>=13 in /opt/conda/envs/sds2021/lib/python3.9/site-packages (from jupyter-client<7.0->ipykernel>=4.5.1->ipywidgets>=7.6.0->Open3D) (22.1.0)\n",
      "Requirement already satisfied: python-dateutil>=2.1 in /opt/conda/envs/sds2021/lib/python3.9/site-packages (from jupyter-client<7.0->ipykernel>=4.5.1->ipywidgets>=7.6.0->Open3D) (2.8.0)\n",
      "Requirement already satisfied: kiwisolver>=1.0.1 in /opt/conda/envs/sds2021/lib/python3.9/site-packages (from matplotlib>=3->Open3D) (1.3.1)\n",
      "Requirement already satisfied: cycler>=0.10 in /opt/conda/envs/sds2021/lib/python3.9/site-packages (from matplotlib>=3->Open3D) (0.10.0)\n",
      "Requirement already satisfied: pyparsing>=2.2.1 in /opt/conda/envs/sds2021/lib/python3.9/site-packages (from matplotlib>=3->Open3D) (2.4.7)\n",
      "Requirement already satisfied: pytz>=2017.3 in /opt/conda/envs/sds2021/lib/python3.9/site-packages (from pandas>=1.0->Open3D) (2021.1)\n",
      "Requirement already satisfied: ptyprocess>=0.5 in /opt/conda/envs/sds2021/lib/python3.9/site-packages (from pexpect>4.3->ipython>=4.0.0->ipywidgets>=7.6.0->Open3D) (0.7.0)\n",
      "Requirement already satisfied: tenacity>=6.2.0 in /opt/conda/envs/sds2021/lib/python3.9/site-packages (from plotly>=5.0.0->dash>=2.6.0->Open3D) (8.0.1)\n",
      "Requirement already satisfied: wcwidth in /opt/conda/envs/sds2021/lib/python3.9/site-packages (from prompt-toolkit!=3.0.0,!=3.0.1,<3.1.0,>=2.0.0->ipython>=4.0.0->ipywidgets>=7.6.0->Open3D) (0.2.5)\n",
      "Requirement already satisfied: joblib>=1.1.1 in /opt/conda/envs/sds2021/lib/python3.9/site-packages (from scikit-learn>=0.21->Open3D) (1.2.0)\n",
      "Requirement already satisfied: scipy>=1.3.2 in /opt/conda/envs/sds2021/lib/python3.9/site-packages (from scikit-learn>=0.21->Open3D) (1.7.0)\n",
      "Requirement already satisfied: threadpoolctl>=2.0.0 in /opt/conda/envs/sds2021/lib/python3.9/site-packages (from scikit-learn>=0.21->Open3D) (2.2.0)\n",
      "Requirement already satisfied: notebook>=4.4.1 in /opt/conda/envs/sds2021/lib/python3.9/site-packages (from widgetsnbextension~=3.5.0->ipywidgets>=7.6.0->Open3D) (6.4.0)\n",
      "Requirement already satisfied: ipython-genutils in /opt/conda/envs/sds2021/lib/python3.9/site-packages (from notebook>=4.4.1->widgetsnbextension~=3.5.0->ipywidgets>=7.6.0->Open3D) (0.2.0)\n",
      "Requirement already satisfied: Send2Trash>=1.5.0 in /opt/conda/envs/sds2021/lib/python3.9/site-packages (from notebook>=4.4.1->widgetsnbextension~=3.5.0->ipywidgets>=7.6.0->Open3D) (1.7.1)\n",
      "Requirement already satisfied: terminado>=0.8.3 in /opt/conda/envs/sds2021/lib/python3.9/site-packages (from notebook>=4.4.1->widgetsnbextension~=3.5.0->ipywidgets>=7.6.0->Open3D) (0.10.1)\n",
      "Requirement already satisfied: argon2-cffi in /opt/conda/envs/sds2021/lib/python3.9/site-packages (from notebook>=4.4.1->widgetsnbextension~=3.5.0->ipywidgets>=7.6.0->Open3D) (20.1.0)\n",
      "Requirement already satisfied: nbconvert in /opt/conda/envs/sds2021/lib/python3.9/site-packages (from notebook>=4.4.1->widgetsnbextension~=3.5.0->ipywidgets>=7.6.0->Open3D) (6.1.0)\n",
      "Requirement already satisfied: prometheus-client in /opt/conda/envs/sds2021/lib/python3.9/site-packages (from notebook>=4.4.1->widgetsnbextension~=3.5.0->ipywidgets>=7.6.0->Open3D) (0.11.0)\n",
      "Requirement already satisfied: cffi>=1.0.0 in /opt/conda/envs/sds2021/lib/python3.9/site-packages (from argon2-cffi->notebook>=4.4.1->widgetsnbextension~=3.5.0->ipywidgets>=7.6.0->Open3D) (1.14.6)\n",
      "Requirement already satisfied: pycparser in /opt/conda/envs/sds2021/lib/python3.9/site-packages (from cffi>=1.0.0->argon2-cffi->notebook>=4.4.1->widgetsnbextension~=3.5.0->ipywidgets>=7.6.0->Open3D) (2.20)\n",
      "Requirement already satisfied: entrypoints>=0.2.2 in /opt/conda/envs/sds2021/lib/python3.9/site-packages (from nbconvert->notebook>=4.4.1->widgetsnbextension~=3.5.0->ipywidgets>=7.6.0->Open3D) (0.3)\n",
      "Requirement already satisfied: nbclient<0.6.0,>=0.5.0 in /opt/conda/envs/sds2021/lib/python3.9/site-packages (from nbconvert->notebook>=4.4.1->widgetsnbextension~=3.5.0->ipywidgets>=7.6.0->Open3D) (0.5.3)\n",
      "Requirement already satisfied: bleach in /opt/conda/envs/sds2021/lib/python3.9/site-packages (from nbconvert->notebook>=4.4.1->widgetsnbextension~=3.5.0->ipywidgets>=7.6.0->Open3D) (3.3.1)\n",
      "Requirement already satisfied: defusedxml in /opt/conda/envs/sds2021/lib/python3.9/site-packages (from nbconvert->notebook>=4.4.1->widgetsnbextension~=3.5.0->ipywidgets>=7.6.0->Open3D) (0.7.1)\n",
      "Requirement already satisfied: pandocfilters>=1.4.1 in /opt/conda/envs/sds2021/lib/python3.9/site-packages (from nbconvert->notebook>=4.4.1->widgetsnbextension~=3.5.0->ipywidgets>=7.6.0->Open3D) (1.4.2)\n",
      "Requirement already satisfied: jupyterlab-pygments in /opt/conda/envs/sds2021/lib/python3.9/site-packages (from nbconvert->notebook>=4.4.1->widgetsnbextension~=3.5.0->ipywidgets>=7.6.0->Open3D) (0.1.2)\n",
      "Requirement already satisfied: testpath in /opt/conda/envs/sds2021/lib/python3.9/site-packages (from nbconvert->notebook>=4.4.1->widgetsnbextension~=3.5.0->ipywidgets>=7.6.0->Open3D) (0.5.0)\n",
      "Requirement already satisfied: mistune<2,>=0.8.1 in /opt/conda/envs/sds2021/lib/python3.9/site-packages (from nbconvert->notebook>=4.4.1->widgetsnbextension~=3.5.0->ipywidgets>=7.6.0->Open3D) (0.8.4)\n",
      "Requirement already satisfied: async-generator in /opt/conda/envs/sds2021/lib/python3.9/site-packages (from nbclient<0.6.0,>=0.5.0->nbconvert->notebook>=4.4.1->widgetsnbextension~=3.5.0->ipywidgets>=7.6.0->Open3D) (1.10)\n",
      "Requirement already satisfied: nest-asyncio in /opt/conda/envs/sds2021/lib/python3.9/site-packages (from nbclient<0.6.0,>=0.5.0->nbconvert->notebook>=4.4.1->widgetsnbextension~=3.5.0->ipywidgets>=7.6.0->Open3D) (1.5.1)\n",
      "Requirement already satisfied: webencodings in /opt/conda/envs/sds2021/lib/python3.9/site-packages (from bleach->nbconvert->notebook>=4.4.1->widgetsnbextension~=3.5.0->ipywidgets>=7.6.0->Open3D) (0.5.1)\n",
      "Requirement already satisfied: packaging in /opt/conda/envs/sds2021/lib/python3.9/site-packages (from bleach->nbconvert->notebook>=4.4.1->widgetsnbextension~=3.5.0->ipywidgets>=7.6.0->Open3D) (21.0)\n",
      "Note: you may need to restart the kernel to use updated packages.\n"
     ]
    }
   ],
   "source": [
    "pip install Open3D"
   ]
  },
  {
   "cell_type": "code",
   "execution_count": 1,
   "id": "c728f205-02f8-47de-b698-68cd7a99aeff",
   "metadata": {},
   "outputs": [
    {
     "ename": "OSError",
     "evalue": "libGL.so.1: cannot open shared object file: No such file or directory",
     "output_type": "error",
     "traceback": [
      "\u001b[0;31m---------------------------------------------------------------------------\u001b[0m",
      "\u001b[0;31mOSError\u001b[0m                                   Traceback (most recent call last)",
      "\u001b[0;32m/tmp/ipykernel_158/2166289911.py\u001b[0m in \u001b[0;36m<module>\u001b[0;34m\u001b[0m\n\u001b[0;32m----> 1\u001b[0;31m \u001b[0;32mimport\u001b[0m \u001b[0mopen3d\u001b[0m\u001b[0;34m\u001b[0m\u001b[0;34m\u001b[0m\u001b[0m\n\u001b[0m",
      "\u001b[0;32m/opt/conda/envs/sds2021/lib/python3.9/site-packages/open3d/__init__.py\u001b[0m in \u001b[0;36m<module>\u001b[0;34m\u001b[0m\n\u001b[1;32m     62\u001b[0m     \u001b[0;31m# Do this before loading the CUDA pybind dll to correctly resolve symbols\u001b[0m\u001b[0;34m\u001b[0m\u001b[0;34m\u001b[0m\u001b[0;34m\u001b[0m\u001b[0m\n\u001b[1;32m     63\u001b[0m     \u001b[0;32mtry\u001b[0m\u001b[0;34m:\u001b[0m  \u001b[0;31m# StopIteration if cpu version not available\u001b[0m\u001b[0;34m\u001b[0m\u001b[0;34m\u001b[0m\u001b[0m\n\u001b[0;32m---> 64\u001b[0;31m         \u001b[0m_CDLL\u001b[0m\u001b[0;34m(\u001b[0m\u001b[0mstr\u001b[0m\u001b[0;34m(\u001b[0m\u001b[0mnext\u001b[0m\u001b[0;34m(\u001b[0m\u001b[0;34m(\u001b[0m\u001b[0m_Path\u001b[0m\u001b[0;34m(\u001b[0m\u001b[0m__file__\u001b[0m\u001b[0;34m)\u001b[0m\u001b[0;34m.\u001b[0m\u001b[0mparent\u001b[0m \u001b[0;34m/\u001b[0m \u001b[0;34m'cpu'\u001b[0m\u001b[0;34m)\u001b[0m\u001b[0;34m.\u001b[0m\u001b[0mglob\u001b[0m\u001b[0;34m(\u001b[0m\u001b[0;34m'pybind*'\u001b[0m\u001b[0;34m)\u001b[0m\u001b[0;34m)\u001b[0m\u001b[0;34m)\u001b[0m\u001b[0;34m)\u001b[0m\u001b[0;34m\u001b[0m\u001b[0;34m\u001b[0m\u001b[0m\n\u001b[0m\u001b[1;32m     65\u001b[0m     \u001b[0;32mexcept\u001b[0m \u001b[0mStopIteration\u001b[0m\u001b[0;34m:\u001b[0m\u001b[0;34m\u001b[0m\u001b[0;34m\u001b[0m\u001b[0m\n\u001b[1;32m     66\u001b[0m         warnings.warn(\n",
      "\u001b[0;32m/opt/conda/envs/sds2021/lib/python3.9/ctypes/__init__.py\u001b[0m in \u001b[0;36m__init__\u001b[0;34m(self, name, mode, handle, use_errno, use_last_error, winmode)\u001b[0m\n\u001b[1;32m    380\u001b[0m \u001b[0;34m\u001b[0m\u001b[0m\n\u001b[1;32m    381\u001b[0m         \u001b[0;32mif\u001b[0m \u001b[0mhandle\u001b[0m \u001b[0;32mis\u001b[0m \u001b[0;32mNone\u001b[0m\u001b[0;34m:\u001b[0m\u001b[0;34m\u001b[0m\u001b[0;34m\u001b[0m\u001b[0m\n\u001b[0;32m--> 382\u001b[0;31m             \u001b[0mself\u001b[0m\u001b[0;34m.\u001b[0m\u001b[0m_handle\u001b[0m \u001b[0;34m=\u001b[0m \u001b[0m_dlopen\u001b[0m\u001b[0;34m(\u001b[0m\u001b[0mself\u001b[0m\u001b[0;34m.\u001b[0m\u001b[0m_name\u001b[0m\u001b[0;34m,\u001b[0m \u001b[0mmode\u001b[0m\u001b[0;34m)\u001b[0m\u001b[0;34m\u001b[0m\u001b[0;34m\u001b[0m\u001b[0m\n\u001b[0m\u001b[1;32m    383\u001b[0m         \u001b[0;32melse\u001b[0m\u001b[0;34m:\u001b[0m\u001b[0;34m\u001b[0m\u001b[0;34m\u001b[0m\u001b[0m\n\u001b[1;32m    384\u001b[0m             \u001b[0mself\u001b[0m\u001b[0;34m.\u001b[0m\u001b[0m_handle\u001b[0m \u001b[0;34m=\u001b[0m \u001b[0mhandle\u001b[0m\u001b[0;34m\u001b[0m\u001b[0;34m\u001b[0m\u001b[0m\n",
      "\u001b[0;31mOSError\u001b[0m: libGL.so.1: cannot open shared object file: No such file or directory"
     ]
    }
   ],
   "source": [
    "import open3d\n"
   ]
  },
  {
   "cell_type": "code",
   "execution_count": null,
   "id": "1efd5e14-2d40-471d-934d-4f7fadac1408",
   "metadata": {},
   "outputs": [],
   "source": []
  }
 ],
 "metadata": {
  "kernelspec": {
   "display_name": "Python 3 (ipykernel)",
   "language": "python",
   "name": "python3"
  },
  "language_info": {
   "codemirror_mode": {
    "name": "ipython",
    "version": 3
   },
   "file_extension": ".py",
   "mimetype": "text/x-python",
   "name": "python",
   "nbconvert_exporter": "python",
   "pygments_lexer": "ipython3",
   "version": "3.9.6"
  }
 },
 "nbformat": 4,
 "nbformat_minor": 5
}
