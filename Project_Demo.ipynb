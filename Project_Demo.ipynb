{
 "cells": [
  {
   "cell_type": "code",
   "execution_count": 1,
   "id": "occupied-anatomy",
   "metadata": {},
   "outputs": [],
   "source": [
    "import cv2\n",
    "import torch\n",
    "import time\n",
    "import numpy as np"
   ]
  },
  {
   "cell_type": "code",
   "execution_count": 2,
   "id": "chinese-uzbekistan",
   "metadata": {},
   "outputs": [],
   "source": [
    "model_type = \"DPT_Large\"     # MiDaS v3 - Large     (highest accuracy, slowest inference speed)\n",
    "#model_type = \"DPT_Hybrid\"   # MiDaS v3 - Hybrid    (medium accuracy, medium inference speed)\n",
    "#model_type = \"MiDaS_small\"  # MiDaS v2.1 - Small   (lowest accuracy, highest inference speed)"
   ]
  },
  {
   "cell_type": "code",
   "execution_count": null,
   "id": "derived-december",
   "metadata": {},
   "outputs": [],
   "source": [
    "# --------------------- Create The Point Clouds ----------------------------------------\n",
    "\n",
    "#Function to create point cloud file\n",
    "def create_output(vertices, colors, filename):\n",
    "\t    colors = colors.reshape(-1,3)\n",
    "\t    vertices = np.hstack([vertices.reshape(-1,3),colors])\n",
    "\n",
    "\t    ply_header = '''ply\n",
    "\t\t    format ascii 1.0\n",
    "\t\t    element vertex %(vert_num)d\n",
    "\t\t    property float x\n",
    "\t\t    property float y\n",
    "\t\t    property float z\n",
    "\t\t    property uchar red\n",
    "\t\t    property uchar green\n",
    "\t\t    property uchar blue\n",
    "\t\t    end_header\n",
    "\t\t    '''\n",
    "\t    with open(filename, 'w') as f:\n",
    "\t\t    f.write(ply_header %dict(vert_num=len(vertices)))\n",
    "\t\t    np.savetxt(f,vertices,'%f %f %f %d %d %d')\n",
    " \n",
    "\n",
    "output_file = 'pointCloudDeepLearning.ply'\n",
    "\n",
    "#Generate point cloud \n",
    "create_output(output_points, output_colors, output_file)"
   ]
  },
  {
   "cell_type": "code",
   "execution_count": null,
   "id": "present-shift",
   "metadata": {},
   "outputs": [],
   "source": []
  }
 ],
 "metadata": {
  "kernelspec": {
   "display_name": "Python 3",
   "language": "python",
   "name": "python3"
  },
  "language_info": {
   "codemirror_mode": {
    "name": "ipython",
    "version": 3
   },
   "file_extension": ".py",
   "mimetype": "text/x-python",
   "name": "python",
   "nbconvert_exporter": "python",
   "pygments_lexer": "ipython3",
   "version": "3.8.5"
  }
 },
 "nbformat": 4,
 "nbformat_minor": 5
}
