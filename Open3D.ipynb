{
 "cells": [
  {
   "cell_type": "code",
   "execution_count": 4,
   "id": "0781d69a",
   "metadata": {},
   "outputs": [
    {
     "name": "stdout",
     "output_type": "stream",
     "text": [
      "Requirement already satisfied: open3d in c:\\users\\fan_z\\anaconda3\\envs\\tf-gpu\\lib\\site-packages (0.16.0)\n",
      "Requirement already satisfied: nbformat==5.5.0 in c:\\users\\fan_z\\anaconda3\\envs\\tf-gpu\\lib\\site-packages (from open3d) (5.5.0)\n",
      "Requirement already satisfied: dash>=2.6.0 in c:\\users\\fan_z\\anaconda3\\envs\\tf-gpu\\lib\\site-packages (from open3d) (2.7.1)\n",
      "Requirement already satisfied: numpy>=1.18.0 in c:\\users\\fan_z\\anaconda3\\envs\\tf-gpu\\lib\\site-packages (from open3d) (1.19.5)\n",
      "Requirement already satisfied: ipywidgets>=7.6.0 in c:\\users\\fan_z\\anaconda3\\envs\\tf-gpu\\lib\\site-packages (from open3d) (8.0.4)\n",
      "Requirement already satisfied: configargparse in c:\\users\\fan_z\\anaconda3\\envs\\tf-gpu\\lib\\site-packages (from open3d) (1.5.3)\n",
      "Requirement already satisfied: jupyter_core in c:\\users\\fan_z\\anaconda3\\envs\\tf-gpu\\lib\\site-packages (from nbformat==5.5.0->open3d) (4.7.0)\n",
      "Requirement already satisfied: fastjsonschema in c:\\users\\fan_z\\anaconda3\\envs\\tf-gpu\\lib\\site-packages (from nbformat==5.5.0->open3d) (2.16.2)\n",
      "Requirement already satisfied: traitlets>=5.1 in c:\\users\\fan_z\\anaconda3\\envs\\tf-gpu\\lib\\site-packages (from nbformat==5.5.0->open3d) (5.8.1)\n",
      "Requirement already satisfied: jsonschema>=2.6 in c:\\users\\fan_z\\anaconda3\\envs\\tf-gpu\\lib\\site-packages (from nbformat==5.5.0->open3d) (3.2.0)\n",
      "Requirement already satisfied: dash-table==5.0.0 in c:\\users\\fan_z\\anaconda3\\envs\\tf-gpu\\lib\\site-packages (from dash>=2.6.0->open3d) (5.0.0)\n",
      "Requirement already satisfied: dash-core-components==2.0.0 in c:\\users\\fan_z\\anaconda3\\envs\\tf-gpu\\lib\\site-packages (from dash>=2.6.0->open3d) (2.0.0)\n",
      "Requirement already satisfied: dash-html-components==2.0.0 in c:\\users\\fan_z\\anaconda3\\envs\\tf-gpu\\lib\\site-packages (from dash>=2.6.0->open3d) (2.0.0)\n",
      "Requirement already satisfied: plotly>=5.0.0 in c:\\users\\fan_z\\anaconda3\\envs\\tf-gpu\\lib\\site-packages (from dash>=2.6.0->open3d) (5.12.0)\n",
      "Requirement already satisfied: Flask>=1.0.4 in c:\\users\\fan_z\\anaconda3\\envs\\tf-gpu\\lib\\site-packages (from dash>=2.6.0->open3d) (2.2.2)\n",
      "Requirement already satisfied: click>=8.0 in c:\\users\\fan_z\\anaconda3\\envs\\tf-gpu\\lib\\site-packages (from Flask>=1.0.4->dash>=2.6.0->open3d) (8.1.3)\n",
      "Requirement already satisfied: Werkzeug>=2.2.2 in c:\\users\\fan_z\\anaconda3\\envs\\tf-gpu\\lib\\site-packages (from Flask>=1.0.4->dash>=2.6.0->open3d) (2.2.2)\n",
      "Requirement already satisfied: Jinja2>=3.0 in c:\\users\\fan_z\\anaconda3\\envs\\tf-gpu\\lib\\site-packages (from Flask>=1.0.4->dash>=2.6.0->open3d) (3.1.2)\n",
      "Requirement already satisfied: itsdangerous>=2.0 in c:\\users\\fan_z\\anaconda3\\envs\\tf-gpu\\lib\\site-packages (from Flask>=1.0.4->dash>=2.6.0->open3d) (2.1.2)\n",
      "Requirement already satisfied: importlib-metadata>=3.6.0 in c:\\users\\fan_z\\anaconda3\\envs\\tf-gpu\\lib\\site-packages (from Flask>=1.0.4->dash>=2.6.0->open3d) (6.0.0)\n",
      "Requirement already satisfied: colorama in c:\\users\\fan_z\\anaconda3\\envs\\tf-gpu\\lib\\site-packages (from click>=8.0->Flask>=1.0.4->dash>=2.6.0->open3d) (0.4.4)\n",
      "Requirement already satisfied: zipp>=0.5 in c:\\users\\fan_z\\anaconda3\\envs\\tf-gpu\\lib\\site-packages (from importlib-metadata>=3.6.0->Flask>=1.0.4->dash>=2.6.0->open3d) (3.4.0)\n",
      "Requirement already satisfied: jupyterlab-widgets~=3.0 in c:\\users\\fan_z\\anaconda3\\envs\\tf-gpu\\lib\\site-packages (from ipywidgets>=7.6.0->open3d) (3.0.5)\n",
      "Requirement already satisfied: ipython>=6.1.0 in c:\\users\\fan_z\\anaconda3\\envs\\tf-gpu\\lib\\site-packages (from ipywidgets>=7.6.0->open3d) (7.19.0)\n",
      "Requirement already satisfied: ipykernel>=4.5.1 in c:\\users\\fan_z\\anaconda3\\envs\\tf-gpu\\lib\\site-packages (from ipywidgets>=7.6.0->open3d) (5.3.4)\n",
      "Requirement already satisfied: widgetsnbextension~=4.0 in c:\\users\\fan_z\\anaconda3\\envs\\tf-gpu\\lib\\site-packages (from ipywidgets>=7.6.0->open3d) (4.0.5)\n",
      "Requirement already satisfied: tornado>=4.2 in c:\\users\\fan_z\\anaconda3\\envs\\tf-gpu\\lib\\site-packages (from ipykernel>=4.5.1->ipywidgets>=7.6.0->open3d) (6.1)\n",
      "Requirement already satisfied: jupyter-client in c:\\users\\fan_z\\anaconda3\\envs\\tf-gpu\\lib\\site-packages (from ipykernel>=4.5.1->ipywidgets>=7.6.0->open3d) (6.1.7)\n",
      "Requirement already satisfied: setuptools>=18.5 in c:\\users\\fan_z\\anaconda3\\envs\\tf-gpu\\lib\\site-packages (from ipython>=6.1.0->ipywidgets>=7.6.0->open3d) (66.0.0)\n",
      "Requirement already satisfied: pickleshare in c:\\users\\fan_z\\anaconda3\\envs\\tf-gpu\\lib\\site-packages (from ipython>=6.1.0->ipywidgets>=7.6.0->open3d) (0.7.5)\n",
      "Requirement already satisfied: backcall in c:\\users\\fan_z\\anaconda3\\envs\\tf-gpu\\lib\\site-packages (from ipython>=6.1.0->ipywidgets>=7.6.0->open3d) (0.2.0)\n",
      "Requirement already satisfied: pygments in c:\\users\\fan_z\\anaconda3\\envs\\tf-gpu\\lib\\site-packages (from ipython>=6.1.0->ipywidgets>=7.6.0->open3d) (2.7.4)\n",
      "Requirement already satisfied: jedi>=0.10 in c:\\users\\fan_z\\anaconda3\\envs\\tf-gpu\\lib\\site-packages (from ipython>=6.1.0->ipywidgets>=7.6.0->open3d) (0.17.2)\n",
      "Requirement already satisfied: decorator in c:\\users\\fan_z\\anaconda3\\envs\\tf-gpu\\lib\\site-packages (from ipython>=6.1.0->ipywidgets>=7.6.0->open3d) (4.4.2)\n",
      "Requirement already satisfied: prompt-toolkit!=3.0.0,!=3.0.1,<3.1.0,>=2.0.0 in c:\\users\\fan_z\\anaconda3\\envs\\tf-gpu\\lib\\site-packages (from ipython>=6.1.0->ipywidgets>=7.6.0->open3d) (3.0.8)\n",
      "Requirement already satisfied: parso<0.8.0,>=0.7.0 in c:\\users\\fan_z\\anaconda3\\envs\\tf-gpu\\lib\\site-packages (from jedi>=0.10->ipython>=6.1.0->ipywidgets>=7.6.0->open3d) (0.7.0)\n",
      "Requirement already satisfied: MarkupSafe>=2.0 in c:\\users\\fan_z\\anaconda3\\envs\\tf-gpu\\lib\\site-packages (from Jinja2>=3.0->Flask>=1.0.4->dash>=2.6.0->open3d) (2.1.1)\n",
      "Requirement already satisfied: attrs>=17.4.0 in c:\\users\\fan_z\\anaconda3\\envs\\tf-gpu\\lib\\site-packages (from jsonschema>=2.6->nbformat==5.5.0->open3d) (20.3.0)\n",
      "Requirement already satisfied: pyrsistent>=0.14.0 in c:\\users\\fan_z\\anaconda3\\envs\\tf-gpu\\lib\\site-packages (from jsonschema>=2.6->nbformat==5.5.0->open3d) (0.17.3)\n",
      "Requirement already satisfied: six>=1.11.0 in c:\\users\\fan_z\\anaconda3\\envs\\tf-gpu\\lib\\site-packages (from jsonschema>=2.6->nbformat==5.5.0->open3d) (1.15.0)\n",
      "Requirement already satisfied: tenacity>=6.2.0 in c:\\users\\fan_z\\anaconda3\\envs\\tf-gpu\\lib\\site-packages (from plotly>=5.0.0->dash>=2.6.0->open3d) (8.1.0)\n",
      "Requirement already satisfied: wcwidth in c:\\users\\fan_z\\anaconda3\\envs\\tf-gpu\\lib\\site-packages (from prompt-toolkit!=3.0.0,!=3.0.1,<3.1.0,>=2.0.0->ipython>=6.1.0->ipywidgets>=7.6.0->open3d) (0.2.5)\n",
      "Requirement already satisfied: pyzmq>=13 in c:\\users\\fan_z\\anaconda3\\envs\\tf-gpu\\lib\\site-packages (from jupyter-client->ipykernel>=4.5.1->ipywidgets>=7.6.0->open3d) (20.0.0)\n",
      "Requirement already satisfied: python-dateutil>=2.1 in c:\\users\\fan_z\\anaconda3\\envs\\tf-gpu\\lib\\site-packages (from jupyter-client->ipykernel>=4.5.1->ipywidgets>=7.6.0->open3d) (2.8.1)\n",
      "Requirement already satisfied: pywin32>=1.0 in c:\\users\\fan_z\\anaconda3\\envs\\tf-gpu\\lib\\site-packages (from jupyter_core->nbformat==5.5.0->open3d) (227)\n",
      "Note: you may need to restart the kernel to use updated packages.\n"
     ]
    }
   ],
   "source": [
    "#pip install open3d"
   ]
  },
  {
   "cell_type": "code",
   "execution_count": 5,
   "id": "d0fd280f",
   "metadata": {},
   "outputs": [
    {
     "name": "stdout",
     "output_type": "stream",
     "text": [
      "Requirement already satisfied: matplotlib in c:\\users\\fan_z\\anaconda3\\envs\\tf-gpu\\lib\\site-packages (3.6.3)\n",
      "Requirement already satisfied: packaging>=20.0 in c:\\users\\fan_z\\anaconda3\\envs\\tf-gpu\\lib\\site-packages (from matplotlib) (23.0)\n",
      "Requirement already satisfied: python-dateutil>=2.7 in c:\\users\\fan_z\\anaconda3\\envs\\tf-gpu\\lib\\site-packages (from matplotlib) (2.8.1)\n",
      "Requirement already satisfied: contourpy>=1.0.1 in c:\\users\\fan_z\\anaconda3\\envs\\tf-gpu\\lib\\site-packages (from matplotlib) (1.0.7)\n",
      "Requirement already satisfied: pyparsing>=2.2.1 in c:\\users\\fan_z\\anaconda3\\envs\\tf-gpu\\lib\\site-packages (from matplotlib) (2.4.7)\n",
      "Requirement already satisfied: numpy>=1.19 in c:\\users\\fan_z\\anaconda3\\envs\\tf-gpu\\lib\\site-packages (from matplotlib) (1.19.5)\n",
      "Requirement already satisfied: fonttools>=4.22.0 in c:\\users\\fan_z\\anaconda3\\envs\\tf-gpu\\lib\\site-packages (from matplotlib) (4.38.0)\n",
      "Requirement already satisfied: pillow>=6.2.0 in c:\\users\\fan_z\\anaconda3\\envs\\tf-gpu\\lib\\site-packages (from matplotlib) (9.3.0)\n",
      "Requirement already satisfied: kiwisolver>=1.0.1 in c:\\users\\fan_z\\anaconda3\\envs\\tf-gpu\\lib\\site-packages (from matplotlib) (1.3.0)\n",
      "Requirement already satisfied: cycler>=0.10 in c:\\users\\fan_z\\anaconda3\\envs\\tf-gpu\\lib\\site-packages (from matplotlib) (0.10.0)\n",
      "Requirement already satisfied: six in c:\\users\\fan_z\\anaconda3\\envs\\tf-gpu\\lib\\site-packages (from cycler>=0.10->matplotlib) (1.15.0)\n",
      "Note: you may need to restart the kernel to use updated packages.\n"
     ]
    }
   ],
   "source": [
    "#pip install -U matplotlib"
   ]
  },
  {
   "cell_type": "code",
   "execution_count": 6,
   "id": "ed483000",
   "metadata": {},
   "outputs": [
    {
     "name": "stdout",
     "output_type": "stream",
     "text": [
      "Requirement already satisfied: setuptools in c:\\users\\fan_z\\anaconda3\\envs\\tf-gpu\\lib\\site-packages (66.0.0)\n",
      "Collecting setuptools\n",
      "  Downloading setuptools-67.1.0-py3-none-any.whl (1.1 MB)\n",
      "Installing collected packages: setuptools\n",
      "  Attempting uninstall: setuptools\n",
      "    Found existing installation: setuptools 66.0.0\n",
      "    Uninstalling setuptools-66.0.0:\n",
      "      Successfully uninstalled setuptools-66.0.0\n",
      "Successfully installed setuptools-67.1.0\n",
      "Note: you may need to restart the kernel to use updated packages.\n"
     ]
    },
    {
     "name": "stderr",
     "output_type": "stream",
     "text": [
      "ERROR: pip's dependency resolver does not currently take into account all the packages that are installed. This behaviour is the source of the following dependency conflicts.\n",
      "tensorboard 2.5.0 requires google-auth<2,>=1.6.3, but you have google-auth 2.11.0 which is incompatible.\n"
     ]
    }
   ],
   "source": [
    "#pip install --upgrade setuptools"
   ]
  },
  {
   "cell_type": "code",
   "execution_count": 7,
   "id": "e395f330",
   "metadata": {},
   "outputs": [
    {
     "name": "stdout",
     "output_type": "stream",
     "text": [
      "Requirement already satisfied: imageio in c:\\users\\fan_z\\anaconda3\\envs\\tf-gpu\\lib\\site-packages (2.24.0)\n",
      "Requirement already satisfied: pillow>=8.3.2 in c:\\users\\fan_z\\anaconda3\\envs\\tf-gpu\\lib\\site-packages (from imageio) (9.3.0)\n",
      "Requirement already satisfied: numpy in c:\\users\\fan_z\\anaconda3\\envs\\tf-gpu\\lib\\site-packages (from imageio) (1.19.5)\n",
      "Note: you may need to restart the kernel to use updated packages.\n"
     ]
    }
   ],
   "source": [
    "#pip install imageio"
   ]
  },
  {
   "cell_type": "code",
   "execution_count": 11,
   "id": "7bbbc9fc",
   "metadata": {},
   "outputs": [
    {
     "name": "stdout",
     "output_type": "stream",
     "text": [
      "Requirement already satisfied: pandas in c:\\users\\fan_z\\anaconda3\\envs\\tf-gpu\\lib\\site-packages (1.3.5)\n",
      "Requirement already satisfied: numpy>=1.17.3 in c:\\users\\fan_z\\anaconda3\\envs\\tf-gpu\\lib\\site-packages (from pandas) (1.24.1)\n",
      "Requirement already satisfied: pytz>=2017.3 in c:\\users\\fan_z\\anaconda3\\envs\\tf-gpu\\lib\\site-packages (from pandas) (2022.7.1)\n",
      "Requirement already satisfied: python-dateutil>=2.7.3 in c:\\users\\fan_z\\anaconda3\\envs\\tf-gpu\\lib\\site-packages (from pandas) (2.8.1)\n",
      "Requirement already satisfied: six>=1.5 in c:\\users\\fan_z\\anaconda3\\envs\\tf-gpu\\lib\\site-packages (from python-dateutil>=2.7.3->pandas) (1.15.0)\n",
      "Note: you may need to restart the kernel to use updated packages.\n"
     ]
    }
   ],
   "source": [
    "#pip install  pandas"
   ]
  },
  {
   "cell_type": "code",
   "execution_count": 13,
   "id": "e1bab58c",
   "metadata": {},
   "outputs": [],
   "source": [
    "import imageio as iio\n",
    "import numpy as np\n",
    "import open3d as o3d\n",
    "import matplotlib.pyplot as plt\n"
   ]
  },
  {
   "cell_type": "code",
   "execution_count": 14,
   "id": "815450e4",
   "metadata": {},
   "outputs": [
    {
     "name": "stdout",
     "output_type": "stream",
     "text": [
      "[[ -2.14920429  -1.63684617   4.        ]\n",
      " [ -1.6067541   -1.22763463   3.        ]\n",
      " [ -1.06773666  -0.81842308   2.        ]\n",
      " ...\n",
      " [260.64242809  38.15263967 164.        ]\n",
      " [260.92391301  38.15263967 164.        ]\n",
      " [261.20539792  38.15263967 164.        ]]\n"
     ]
    }
   ],
   "source": [
    "with open('test.npy', 'rb') as f:\n",
    "    pcd = np.load(f)\n",
    "print(pcd)"
   ]
  },
  {
   "cell_type": "code",
   "execution_count": 15,
   "id": "86a73073",
   "metadata": {},
   "outputs": [],
   "source": [
    "# Convert to Open3D.PointCLoud:\n",
    "pcd_o3d = o3d.geometry.PointCloud()  # create point cloud object\n",
    "pcd_o3d.points = o3d.utility.Vector3dVector(pcd)  # set pcd_np as the point cloud points\n",
    "# Visualize:\n",
    "o3d.visualization.draw_geometries([pcd_o3d])"
   ]
  },
  {
   "cell_type": "code",
   "execution_count": null,
   "id": "de7399b2",
   "metadata": {},
   "outputs": [],
   "source": []
  },
  {
   "cell_type": "code",
   "execution_count": null,
   "id": "8e971c5a",
   "metadata": {},
   "outputs": [],
   "source": []
  },
  {
   "cell_type": "code",
   "execution_count": 6,
   "id": "0f40ed98",
   "metadata": {},
   "outputs": [],
   "source": [
    "def compute_pcd_vectorization(depth_im):\n",
    "    \"\"\"\n",
    "    This function use victorization operations to optimize time.\n",
    "    We can do better by computing constants first.\n",
    "    Please see the main function.\n",
    "    :param depth_im: a depth image\n",
    "    :return: the computed point cloud\n",
    "    \"\"\"\n",
    "    # get depth resolution:\n",
    "    height, width = depth_im.shape\n",
    "    # compute indices:\n",
    "    jj = np.tile(range(width), height)\n",
    "    ii = np.repeat(range(height), width)\n",
    "    # rechape depth image\n",
    "    z = depth_im.reshape(height * width)\n",
    "    # compute pcd:\n",
    "    pcd = np.dstack([(ii - CX_DEPTH) * z / FX_DEPTH,\n",
    "                    (jj - CY_DEPTH) * z / FY_DEPTH,\n",
    "                    z]).reshape((length, 3))\n",
    "    return pcd"
   ]
  },
  {
   "cell_type": "code",
   "execution_count": 16,
   "id": "16b39635",
   "metadata": {},
   "outputs": [
    {
     "name": "stderr",
     "output_type": "stream",
     "text": [
      "<ipython-input-16-21e20cea6d74>:10: DeprecationWarning: Starting with ImageIO v3 the behavior of this function will switch to that of iio.v3.imread. To keep the current behavior (and make this warning disappear) use `import imageio.v2 as imageio` or call `imageio.v2.imread` directly.\n",
      "  depth_image = iio.imread('../Project-demo/test_output.png')\n"
     ]
    },
    {
     "ename": "FileNotFoundError",
     "evalue": "No such file: 'D:\\1111_NUS_Study_Life\\2022_2023_Semester 2\\ISM\\Project-demo\\test_output.png'",
     "output_type": "error",
     "traceback": [
      "\u001b[1;31m---------------------------------------------------------------------------\u001b[0m",
      "\u001b[1;31mFileNotFoundError\u001b[0m                         Traceback (most recent call last)",
      "\u001b[1;32m<ipython-input-16-21e20cea6d74>\u001b[0m in \u001b[0;36m<module>\u001b[1;34m\u001b[0m\n\u001b[0;32m      8\u001b[0m     \u001b[1;31m# Read depth image:\u001b[0m\u001b[1;33m\u001b[0m\u001b[1;33m\u001b[0m\u001b[1;33m\u001b[0m\u001b[0m\n\u001b[0;32m      9\u001b[0m     \u001b[1;31m# ../data/depth.png\u001b[0m\u001b[1;33m\u001b[0m\u001b[1;33m\u001b[0m\u001b[1;33m\u001b[0m\u001b[0m\n\u001b[1;32m---> 10\u001b[1;33m     \u001b[0mdepth_image\u001b[0m \u001b[1;33m=\u001b[0m \u001b[0miio\u001b[0m\u001b[1;33m.\u001b[0m\u001b[0mimread\u001b[0m\u001b[1;33m(\u001b[0m\u001b[1;34m'../Project-demo/test_output.png'\u001b[0m\u001b[1;33m)\u001b[0m\u001b[1;33m\u001b[0m\u001b[1;33m\u001b[0m\u001b[0m\n\u001b[0m\u001b[0;32m     11\u001b[0m \u001b[1;33m\u001b[0m\u001b[0m\n\u001b[0;32m     12\u001b[0m     \u001b[1;31m# print some properties:\u001b[0m\u001b[1;33m\u001b[0m\u001b[1;33m\u001b[0m\u001b[1;33m\u001b[0m\u001b[0m\n",
      "\u001b[1;32m~\\anaconda3\\envs\\tf-gpu\\lib\\site-packages\\imageio\\__init__.py\u001b[0m in \u001b[0;36mimread\u001b[1;34m(uri, format, **kwargs)\u001b[0m\n\u001b[0;32m     95\u001b[0m     )\n\u001b[0;32m     96\u001b[0m \u001b[1;33m\u001b[0m\u001b[0m\n\u001b[1;32m---> 97\u001b[1;33m     \u001b[1;32mreturn\u001b[0m \u001b[0mimread_v2\u001b[0m\u001b[1;33m(\u001b[0m\u001b[0muri\u001b[0m\u001b[1;33m,\u001b[0m \u001b[0mformat\u001b[0m\u001b[1;33m=\u001b[0m\u001b[0mformat\u001b[0m\u001b[1;33m,\u001b[0m \u001b[1;33m**\u001b[0m\u001b[0mkwargs\u001b[0m\u001b[1;33m)\u001b[0m\u001b[1;33m\u001b[0m\u001b[1;33m\u001b[0m\u001b[0m\n\u001b[0m\u001b[0;32m     98\u001b[0m \u001b[1;33m\u001b[0m\u001b[0m\n\u001b[0;32m     99\u001b[0m \u001b[1;33m\u001b[0m\u001b[0m\n",
      "\u001b[1;32m~\\anaconda3\\envs\\tf-gpu\\lib\\site-packages\\imageio\\v2.py\u001b[0m in \u001b[0;36mimread\u001b[1;34m(uri, format, **kwargs)\u001b[0m\n\u001b[0;32m    224\u001b[0m     \u001b[0mimopen_args\u001b[0m\u001b[1;33m[\u001b[0m\u001b[1;34m\"legacy_mode\"\u001b[0m\u001b[1;33m]\u001b[0m \u001b[1;33m=\u001b[0m \u001b[1;32mTrue\u001b[0m\u001b[1;33m\u001b[0m\u001b[1;33m\u001b[0m\u001b[0m\n\u001b[0;32m    225\u001b[0m \u001b[1;33m\u001b[0m\u001b[0m\n\u001b[1;32m--> 226\u001b[1;33m     \u001b[1;32mwith\u001b[0m \u001b[0mimopen\u001b[0m\u001b[1;33m(\u001b[0m\u001b[0muri\u001b[0m\u001b[1;33m,\u001b[0m \u001b[1;34m\"ri\"\u001b[0m\u001b[1;33m,\u001b[0m \u001b[1;33m**\u001b[0m\u001b[0mimopen_args\u001b[0m\u001b[1;33m)\u001b[0m \u001b[1;32mas\u001b[0m \u001b[0mfile\u001b[0m\u001b[1;33m:\u001b[0m\u001b[1;33m\u001b[0m\u001b[1;33m\u001b[0m\u001b[0m\n\u001b[0m\u001b[0;32m    227\u001b[0m         \u001b[0mresult\u001b[0m \u001b[1;33m=\u001b[0m \u001b[0mfile\u001b[0m\u001b[1;33m.\u001b[0m\u001b[0mread\u001b[0m\u001b[1;33m(\u001b[0m\u001b[0mindex\u001b[0m\u001b[1;33m=\u001b[0m\u001b[1;36m0\u001b[0m\u001b[1;33m,\u001b[0m \u001b[1;33m**\u001b[0m\u001b[0mkwargs\u001b[0m\u001b[1;33m)\u001b[0m\u001b[1;33m\u001b[0m\u001b[1;33m\u001b[0m\u001b[0m\n\u001b[0;32m    228\u001b[0m \u001b[1;33m\u001b[0m\u001b[0m\n",
      "\u001b[1;32m~\\anaconda3\\envs\\tf-gpu\\lib\\site-packages\\imageio\\core\\imopen.py\u001b[0m in \u001b[0;36mimopen\u001b[1;34m(uri, io_mode, plugin, extension, format_hint, legacy_mode, **kwargs)\u001b[0m\n\u001b[0;32m    111\u001b[0m         \u001b[0mrequest\u001b[0m\u001b[1;33m.\u001b[0m\u001b[0mformat_hint\u001b[0m \u001b[1;33m=\u001b[0m \u001b[0mformat_hint\u001b[0m\u001b[1;33m\u001b[0m\u001b[1;33m\u001b[0m\u001b[0m\n\u001b[0;32m    112\u001b[0m     \u001b[1;32melse\u001b[0m\u001b[1;33m:\u001b[0m\u001b[1;33m\u001b[0m\u001b[1;33m\u001b[0m\u001b[0m\n\u001b[1;32m--> 113\u001b[1;33m         \u001b[0mrequest\u001b[0m \u001b[1;33m=\u001b[0m \u001b[0mRequest\u001b[0m\u001b[1;33m(\u001b[0m\u001b[0muri\u001b[0m\u001b[1;33m,\u001b[0m \u001b[0mio_mode\u001b[0m\u001b[1;33m,\u001b[0m \u001b[0mformat_hint\u001b[0m\u001b[1;33m=\u001b[0m\u001b[0mformat_hint\u001b[0m\u001b[1;33m,\u001b[0m \u001b[0mextension\u001b[0m\u001b[1;33m=\u001b[0m\u001b[0mextension\u001b[0m\u001b[1;33m)\u001b[0m\u001b[1;33m\u001b[0m\u001b[1;33m\u001b[0m\u001b[0m\n\u001b[0m\u001b[0;32m    114\u001b[0m \u001b[1;33m\u001b[0m\u001b[0m\n\u001b[0;32m    115\u001b[0m     \u001b[0msource\u001b[0m \u001b[1;33m=\u001b[0m \u001b[1;34m\"<bytes>\"\u001b[0m \u001b[1;32mif\u001b[0m \u001b[0misinstance\u001b[0m\u001b[1;33m(\u001b[0m\u001b[0muri\u001b[0m\u001b[1;33m,\u001b[0m \u001b[0mbytes\u001b[0m\u001b[1;33m)\u001b[0m \u001b[1;32melse\u001b[0m \u001b[0muri\u001b[0m\u001b[1;33m\u001b[0m\u001b[1;33m\u001b[0m\u001b[0m\n",
      "\u001b[1;32m~\\anaconda3\\envs\\tf-gpu\\lib\\site-packages\\imageio\\core\\request.py\u001b[0m in \u001b[0;36m__init__\u001b[1;34m(self, uri, mode, extension, format_hint, **kwargs)\u001b[0m\n\u001b[0;32m    246\u001b[0m \u001b[1;33m\u001b[0m\u001b[0m\n\u001b[0;32m    247\u001b[0m         \u001b[1;31m# Parse what was given\u001b[0m\u001b[1;33m\u001b[0m\u001b[1;33m\u001b[0m\u001b[1;33m\u001b[0m\u001b[0m\n\u001b[1;32m--> 248\u001b[1;33m         \u001b[0mself\u001b[0m\u001b[1;33m.\u001b[0m\u001b[0m_parse_uri\u001b[0m\u001b[1;33m(\u001b[0m\u001b[0muri\u001b[0m\u001b[1;33m)\u001b[0m\u001b[1;33m\u001b[0m\u001b[1;33m\u001b[0m\u001b[0m\n\u001b[0m\u001b[0;32m    249\u001b[0m \u001b[1;33m\u001b[0m\u001b[0m\n\u001b[0;32m    250\u001b[0m         \u001b[1;31m# Set extension\u001b[0m\u001b[1;33m\u001b[0m\u001b[1;33m\u001b[0m\u001b[1;33m\u001b[0m\u001b[0m\n",
      "\u001b[1;32m~\\anaconda3\\envs\\tf-gpu\\lib\\site-packages\\imageio\\core\\request.py\u001b[0m in \u001b[0;36m_parse_uri\u001b[1;34m(self, uri)\u001b[0m\n\u001b[0;32m    406\u001b[0m                 \u001b[1;31m# Reading: check that the file exists (but is allowed a dir)\u001b[0m\u001b[1;33m\u001b[0m\u001b[1;33m\u001b[0m\u001b[1;33m\u001b[0m\u001b[0m\n\u001b[0;32m    407\u001b[0m                 \u001b[1;32mif\u001b[0m \u001b[1;32mnot\u001b[0m \u001b[0mos\u001b[0m\u001b[1;33m.\u001b[0m\u001b[0mpath\u001b[0m\u001b[1;33m.\u001b[0m\u001b[0mexists\u001b[0m\u001b[1;33m(\u001b[0m\u001b[0mfn\u001b[0m\u001b[1;33m)\u001b[0m\u001b[1;33m:\u001b[0m\u001b[1;33m\u001b[0m\u001b[1;33m\u001b[0m\u001b[0m\n\u001b[1;32m--> 408\u001b[1;33m                     \u001b[1;32mraise\u001b[0m \u001b[0mFileNotFoundError\u001b[0m\u001b[1;33m(\u001b[0m\u001b[1;34m\"No such file: '%s'\"\u001b[0m \u001b[1;33m%\u001b[0m \u001b[0mfn\u001b[0m\u001b[1;33m)\u001b[0m\u001b[1;33m\u001b[0m\u001b[1;33m\u001b[0m\u001b[0m\n\u001b[0m\u001b[0;32m    409\u001b[0m             \u001b[1;32melse\u001b[0m\u001b[1;33m:\u001b[0m\u001b[1;33m\u001b[0m\u001b[1;33m\u001b[0m\u001b[0m\n\u001b[0;32m    410\u001b[0m                 \u001b[1;31m# Writing: check that the directory to write to does exist\u001b[0m\u001b[1;33m\u001b[0m\u001b[1;33m\u001b[0m\u001b[1;33m\u001b[0m\u001b[0m\n",
      "\u001b[1;31mFileNotFoundError\u001b[0m: No such file: 'D:\\1111_NUS_Study_Life\\2022_2023_Semester 2\\ISM\\Project-demo\\test_output.png'"
     ]
    }
   ],
   "source": [
    "if __name__ == '__main__':\n",
    "    # Camera parameters:\n",
    "    FX_DEPTH = 5.8262448167737955e+02\n",
    "    FY_DEPTH = 5.8269103270988637e+02\n",
    "    CX_DEPTH = 3.1304475870804731e+02\n",
    "    CY_DEPTH = 2.3844389626620386e+02\n",
    "\n",
    "    # Read depth image:\n",
    "    # ../data/depth.png\n",
    "    depth_image = iio.imread('../Project-demo/test_output.png')\n",
    "\n",
    "    # print some properties:\n",
    "    print(f\"Image resolution: {depth_image.shape}\")\n",
    "    print(f\"Data type: {depth_image.dtype}\")\n",
    "    print(f\"Min value: {np.min(depth_image)}\")\n",
    "    print(f\"Max value: {np.max(depth_image)}\")\n",
    "\n",
    "    # Compute depth grayscale:\n",
    "    depth_grayscale = np.array(256 * depth_image / 0x0fff, dtype=np.uint8)\n",
    "    iio.imwrite('../Project-demo/depth_grayscale.png', depth_grayscale)\n",
    "\n",
    "    # Display depth and grayscale image:\n",
    "    fig, axs = plt.subplots(1, 2)\n",
    "    axs[0].imshow(depth_image, cmap=\"gray\")\n",
    "    axs[0].set_title('Depth image')\n",
    "    axs[1].imshow(depth_grayscale, cmap=\"gray\")\n",
    "    axs[1].set_title('Depth grayscale image')\n",
    "    plt.show()\n",
    "\n",
    "    # get depth image resolution:\n",
    "    height, width,depth = depth_image.shape\n",
    "    \n",
    "    # compute indices:\n",
    "    jj = np.tile(range(width), height)\n",
    "    ii = np.repeat(range(height), width)\n",
    "    # Compute constants:\n",
    "    xx = (jj - CX_DEPTH) / FX_DEPTH\n",
    "    yy = (ii - CY_DEPTH) / FY_DEPTH\n",
    "    # transform depth image to vector of z:\n",
    "    length = height * width\n",
    "    \n",
    "    z = depth_image.reshape(length)\n",
    "    \n",
    "    # compute point cloud\n",
    "    pcd = np.dstack((xx * z, yy * z, z)).reshape((length, 3))\n",
    "\n",
    "    # Convert to Open3D.PointCLoud:\n",
    "    pcd_o3d = o3d.geometry.PointCloud()  # create point cloud object\n",
    "    pcd_o3d.points = o3d.utility.Vector3dVector(pcd)  # set pcd_np as the point cloud points\n",
    "    # Visualize:\n",
    "    o3d.visualization.draw_geometries([pcd_o3d])"
   ]
  },
  {
   "cell_type": "code",
   "execution_count": 17,
   "id": "2e522297",
   "metadata": {},
   "outputs": [
    {
     "name": "stderr",
     "output_type": "stream",
     "text": [
      "<ipython-input-17-69678ccdd161>:10: DeprecationWarning: Starting with ImageIO v3 the behavior of this function will switch to that of iio.v3.imread. To keep the current behavior (and make this warning disappear) use `import imageio.v2 as imageio` or call `imageio.v2.imread` directly.\n",
      "  depth_image = iio.imread('../Project-demo/pointcloudprocessing-main/data/depth.png')\n"
     ]
    },
    {
     "name": "stdout",
     "output_type": "stream",
     "text": [
      "Image resolution: (480, 640)\n",
      "Data type: uint16\n",
      "Min value: 0\n",
      "Max value: 2980\n"
     ]
    },
    {
     "data": {
      "image/png": "[encoded data removed]",
      "text/plain": [
       "<Figure size 432x288 with 2 Axes>"
      ]
     },
     "metadata": {
      "needs_background": "light"
     },
     "output_type": "display_data"
    },
    {
     "name": "stdout",
     "output_type": "stream",
     "text": [
      "[Open3D WARNING] GLFW Error: WGL: Failed to make context current: 不支持请求的转换操作。 \n",
      "[Open3D WARNING] GLFW Error: WGL: Failed to make context current: 句柄无效。 \n",
      "[Open3D WARNING] GLFW Error: WGL: Failed to make context current: 不支持请求的转换操作。 \n",
      "[Open3D WARNING] GLFW Error: WGL: Failed to make context current: 不支持请求的转换操作。 \n",
      "[Open3D WARNING] GLFW Error: WGL: Failed to make context current: 不支持请求的转换操作。 \n",
      "[Open3D WARNING] GLFW Error: WGL: Failed to make context current: 句柄无效。 \n",
      "[Open3D WARNING] GLFW Error: WGL: Failed to make context current: 不支持请求的转换操作。 \n"
     ]
    }
   ],
   "source": [
    "if __name__ == '__main__':\n",
    "    # Camera parameters:\n",
    "    FX_DEPTH = 5.8262448167737955e+02\n",
    "    FY_DEPTH = 5.8269103270988637e+02\n",
    "    CX_DEPTH = 3.1304475870804731e+02\n",
    "    CY_DEPTH = 2.3844389626620386e+02\n",
    "\n",
    "    # Read depth image:\n",
    "    # ../data/depth.png\n",
    "    depth_image = iio.imread('../Project-demo/pointcloudprocessing-main/data/depth.png')\n",
    "\n",
    "    # print some properties:\n",
    "    print(f\"Image resolution: {depth_image.shape}\")\n",
    "    print(f\"Data type: {depth_image.dtype}\")\n",
    "    print(f\"Min value: {np.min(depth_image)}\")\n",
    "    print(f\"Max value: {np.max(depth_image)}\")\n",
    "\n",
    "    # Compute depth grayscale:\n",
    "    depth_grayscale = np.array(256 * depth_image / 0x0fff, dtype=np.uint8)\n",
    "    iio.imwrite('../Project-demo/new_gray.png', depth_grayscale)\n",
    "\n",
    "    # Display depth and grayscale image:\n",
    "    fig, axs = plt.subplots(1, 2)\n",
    "    axs[0].imshow(depth_image, cmap=\"gray\")\n",
    "    axs[0].set_title('Depth image')\n",
    "    axs[1].imshow(depth_grayscale, cmap=\"gray\")\n",
    "    axs[1].set_title('Depth grayscale image')\n",
    "    plt.show()\n",
    "\n",
    "    # get depth image resolution:\n",
    "    height, width = depth_image.shape\n",
    "    \n",
    "    # compute indices:\n",
    "    jj = np.tile(range(width), height)\n",
    "    ii = np.repeat(range(height), width)\n",
    "    # Compute constants:\n",
    "    xx = (jj - CX_DEPTH) / FX_DEPTH\n",
    "    yy = (ii - CY_DEPTH) / FY_DEPTH\n",
    "    # transform depth image to vector of z:\n",
    "    length = height * width\n",
    "    \n",
    "    z = depth_image.reshape(length)\n",
    "    \n",
    "    # compute point cloud\n",
    "    pcd = np.dstack((xx * z, yy * z, z)).reshape((length, 3))\n",
    "\n",
    "    # Convert to Open3D.PointCLoud:\n",
    "    pcd_o3d = o3d.geometry.PointCloud()  # create point cloud object\n",
    "    pcd_o3d.points = o3d.utility.Vector3dVector(pcd)  # set pcd_np as the point cloud points\n",
    "    # Visualize:\n",
    "    o3d.visualization.draw_geometries([pcd_o3d])"
   ]
  },
  {
   "cell_type": "code",
   "execution_count": 3,
   "id": "02af042a",
   "metadata": {},
   "outputs": [
    {
     "ename": "NameError",
     "evalue": "name 'depth_image' is not defined",
     "output_type": "error",
     "traceback": [
      "\u001b[1;31m---------------------------------------------------------------------------\u001b[0m",
      "\u001b[1;31mNameError\u001b[0m                                 Traceback (most recent call last)",
      "\u001b[1;32m<ipython-input-3-7de1dee95561>\u001b[0m in \u001b[0;36m<module>\u001b[1;34m\u001b[0m\n\u001b[1;32m----> 1\u001b[1;33m \u001b[0mdepth_image\u001b[0m\u001b[1;33m\u001b[0m\u001b[1;33m\u001b[0m\u001b[0m\n\u001b[0m",
      "\u001b[1;31mNameError\u001b[0m: name 'depth_image' is not defined"
     ]
    }
   ],
   "source": [
    "depth_image"
   ]
  },
  {
   "cell_type": "code",
   "execution_count": 14,
   "id": "a59282d1",
   "metadata": {},
   "outputs": [
    {
     "data": {
      "text/plain": [
       "(480, 640)"
      ]
     },
     "execution_count": 14,
     "metadata": {},
     "output_type": "execute_result"
    }
   ],
   "source": [
    "depth_image.shape"
   ]
  },
  {
   "cell_type": "code",
   "execution_count": 11,
   "id": "4158ccf1",
   "metadata": {},
   "outputs": [
    {
     "name": "stderr",
     "output_type": "stream",
     "text": [
      "<ipython-input-11-9d2dcd17b565>:1: DeprecationWarning: Starting with ImageIO v3 the behavior of this function will switch to that of iio.v3.imread. To keep the current behavior (and make this warning disappear) use `import imageio.v2 as imageio` or call `imageio.v2.imread` directly.\n",
      "  depth_image_1 = iio.imread('../Project-demo/test_output.png')\n"
     ]
    }
   ],
   "source": [
    "depth_image_1 = iio.imread('../Project-demo/test_output.png')"
   ]
  },
  {
   "cell_type": "code",
   "execution_count": 20,
   "id": "e6255a92",
   "metadata": {},
   "outputs": [
    {
     "name": "stderr",
     "output_type": "stream",
     "text": [
      "<ipython-input-20-1d2c0635936a>:1: DeprecationWarning: Starting with ImageIO v3 the behavior of this function will switch to that of iio.v3.imread. To keep the current behavior (and make this warning disappear) use `import imageio.v2 as imageio` or call `imageio.v2.imread` directly.\n",
      "  depth_image_2 = iio.imread('../Project-demo/test_img.png')\n"
     ]
    }
   ],
   "source": [
    "depth_image_2 = iio.imread('../Project-demo/test_img.png')"
   ]
  },
  {
   "cell_type": "code",
   "execution_count": 13,
   "id": "a411638c",
   "metadata": {},
   "outputs": [
    {
     "data": {
      "text/plain": [
       "(375, 1242, 3)"
      ]
     },
     "execution_count": 13,
     "metadata": {},
     "output_type": "execute_result"
    }
   ],
   "source": [
    "depth_image_1.shape"
   ]
  },
  {
   "cell_type": "code",
   "execution_count": 22,
   "id": "da7b69a9",
   "metadata": {},
   "outputs": [
    {
     "data": {
      "text/plain": [
       "Array([[[  3,   3,  17],\n",
       "        [  1,   1,  11],\n",
       "        [  1,   0,   7],\n",
       "        ...,\n",
       "        [197,  60, 116],\n",
       "        [198,  60, 115],\n",
       "        [198,  60, 115]],\n",
       "\n",
       "       [[  3,   3,  17],\n",
       "        [  1,   1,  11],\n",
       "        [  1,   0,   7],\n",
       "        ...,\n",
       "        [197,  60, 116],\n",
       "        [197,  60, 116],\n",
       "        [198,  60, 115]],\n",
       "\n",
       "       [[  3,   3,  17],\n",
       "        [  1,   1,  11],\n",
       "        [  1,   0,   7],\n",
       "        ...,\n",
       "        [197,  60, 116],\n",
       "        [197,  60, 116],\n",
       "        [197,  60, 116]],\n",
       "\n",
       "       ...,\n",
       "\n",
       "       [[  4,   4,  21],\n",
       "        [  2,   2,  15],\n",
       "        [  1,   1,   9],\n",
       "        ...,\n",
       "        [251, 252, 191],\n",
       "        [251, 252, 191],\n",
       "        [251, 252, 191]],\n",
       "\n",
       "       [[  4,   4,  21],\n",
       "        [  2,   2,  15],\n",
       "        [  1,   1,   9],\n",
       "        ...,\n",
       "        [251, 252, 191],\n",
       "        [251, 252, 191],\n",
       "        [251, 252, 191]],\n",
       "\n",
       "       [[  4,   4,  21],\n",
       "        [  2,   2,  15],\n",
       "        [  1,   1,   9],\n",
       "        ...,\n",
       "        [251, 252, 191],\n",
       "        [251, 252, 191],\n",
       "        [251, 252, 191]]], dtype=uint8)"
      ]
     },
     "execution_count": 22,
     "metadata": {},
     "output_type": "execute_result"
    }
   ],
   "source": [
    "depth_image_1"
   ]
  },
  {
   "cell_type": "code",
   "execution_count": 18,
   "id": "60b3eda0",
   "metadata": {},
   "outputs": [
    {
     "data": {
      "text/plain": [
       "(375, 1242, 3)"
      ]
     },
     "execution_count": 18,
     "metadata": {},
     "output_type": "execute_result"
    }
   ],
   "source": [
    "depth_image_2.shape"
   ]
  },
  {
   "cell_type": "code",
   "execution_count": 21,
   "id": "43149fb2",
   "metadata": {},
   "outputs": [
    {
     "data": {
      "text/plain": [
       "Array([[[ 28,  28,  29],\n",
       "        [ 27,  28,  29],\n",
       "        [ 25,  28,  29],\n",
       "        ...,\n",
       "        [ 33,  42,  53],\n",
       "        [ 34,  42,  54],\n",
       "        [ 35,  42,  54]],\n",
       "\n",
       "       [[ 29,  30,  33],\n",
       "        [ 29,  30,  32],\n",
       "        [ 26,  30,  32],\n",
       "        ...,\n",
       "        [ 36,  42,  53],\n",
       "        [ 35,  44,  52],\n",
       "        [ 34,  44,  52]],\n",
       "\n",
       "       [[ 25,  29,  34],\n",
       "        [ 25,  32,  33],\n",
       "        [ 25,  33,  33],\n",
       "        ...,\n",
       "        [ 34,  41,  52],\n",
       "        [ 34,  43,  50],\n",
       "        [ 35,  44,  51]],\n",
       "\n",
       "       ...,\n",
       "\n",
       "       [[ 93,  99, 108],\n",
       "        [ 93, 102,  96],\n",
       "        [ 95,  98,  90],\n",
       "        ...,\n",
       "        [ 24,  34,  47],\n",
       "        [ 24,  34,  47],\n",
       "        [ 24,  34,  46]],\n",
       "\n",
       "       [[ 94,  97,  95],\n",
       "        [ 93, 100,  99],\n",
       "        [ 95,  98, 102],\n",
       "        ...,\n",
       "        [ 24,  35,  53],\n",
       "        [ 24,  34,  53],\n",
       "        [ 25,  33,  51]],\n",
       "\n",
       "       [[ 88,  99,  94],\n",
       "        [ 87,  98, 101],\n",
       "        [ 97,  94, 101],\n",
       "        ...,\n",
       "        [ 27,  41,  53],\n",
       "        [ 28,  40,  51],\n",
       "        [ 29,  38,  50]]], dtype=uint8)"
      ]
     },
     "execution_count": 21,
     "metadata": {},
     "output_type": "execute_result"
    }
   ],
   "source": [
    "depth_image_2"
   ]
  },
  {
   "cell_type": "code",
   "execution_count": 23,
   "id": "1f822f3b",
   "metadata": {},
   "outputs": [
    {
     "name": "stderr",
     "output_type": "stream",
     "text": [
      "<ipython-input-23-da2cb1bc5743>:1: DeprecationWarning: Starting with ImageIO v3 the behavior of this function will switch to that of iio.v3.imread. To keep the current behavior (and make this warning disappear) use `import imageio.v2 as imageio` or call `imageio.v2.imread` directly.\n",
      "  raw_image = iio.imread('../Project-demo/pointcloudprocessing-main/data/rgb.jpg')\n"
     ]
    }
   ],
   "source": [
    "raw_image = iio.imread('../Project-demo/pointcloudprocessing-main/data/rgb.jpg')"
   ]
  },
  {
   "cell_type": "code",
   "execution_count": 24,
   "id": "d9668dcb",
   "metadata": {},
   "outputs": [
    {
     "data": {
      "text/plain": [
       "Array([[[166, 151, 184],\n",
       "        [170, 154, 190],\n",
       "        [172, 158, 194],\n",
       "        ...,\n",
       "        [198, 166, 207],\n",
       "        [202, 166, 210],\n",
       "        [199, 163, 209]],\n",
       "\n",
       "       [[166, 150, 186],\n",
       "        [169, 153, 190],\n",
       "        [170, 155, 194],\n",
       "        ...,\n",
       "        [196, 164, 205],\n",
       "        [200, 164, 208],\n",
       "        [200, 164, 210]],\n",
       "\n",
       "       [[170, 154, 193],\n",
       "        [171, 155, 194],\n",
       "        [172, 155, 197],\n",
       "        ...,\n",
       "        [194, 164, 202],\n",
       "        [196, 163, 206],\n",
       "        [198, 165, 210]],\n",
       "\n",
       "       ...,\n",
       "\n",
       "       [[112,  83,  85],\n",
       "        [113,  84,  88],\n",
       "        [113,  81,  94],\n",
       "        ...,\n",
       "        [ 95,  64,  80],\n",
       "        [ 94,  61,  80],\n",
       "        [ 93,  58,  80]],\n",
       "\n",
       "       [[117,  85,  90],\n",
       "        [116,  83,  90],\n",
       "        [118,  82,  96],\n",
       "        ...,\n",
       "        [ 98,  67,  83],\n",
       "        [ 96,  63,  82],\n",
       "        [ 93,  60,  81]],\n",
       "\n",
       "       [[118,  83,  89],\n",
       "        [118,  83,  90],\n",
       "        [121,  82, 100],\n",
       "        ...,\n",
       "        [ 98,  67,  83],\n",
       "        [ 96,  63,  82],\n",
       "        [ 93,  60,  81]]], dtype=uint8)"
      ]
     },
     "execution_count": 24,
     "metadata": {},
     "output_type": "execute_result"
    }
   ],
   "source": [
    "raw_image"
   ]
  },
  {
   "cell_type": "code",
   "execution_count": 26,
   "id": "fbe7a393",
   "metadata": {},
   "outputs": [
    {
     "data": {
      "text/plain": [
       "Array([[   0,    0,    0, ..., 2335, 2335, 2335],\n",
       "       [   0,    0,    0, ..., 2351, 2335, 2335],\n",
       "       [   0,    0,    0, ..., 2351, 2335, 2335],\n",
       "       ...,\n",
       "       [   0,    0,    0, ..., 1404, 1404, 1404],\n",
       "       [   0,    0,    0, ..., 1399, 1399, 1399],\n",
       "       [   0,    0,    0, ..., 1399, 1393, 1393]], dtype=uint16)"
      ]
     },
     "execution_count": 26,
     "metadata": {},
     "output_type": "execute_result"
    }
   ],
   "source": [
    "depth_image"
   ]
  },
  {
   "cell_type": "code",
   "execution_count": 27,
   "id": "69138477",
   "metadata": {},
   "outputs": [
    {
     "data": {
      "text/plain": [
       "array([[0, 0, 0, ..., 1, 1, 1],\n",
       "       [0, 0, 0, ..., 2, 1, 1],\n",
       "       [0, 0, 0, ..., 2, 1, 1],\n",
       "       ...,\n",
       "       [0, 0, 0, ..., 7, 7, 7],\n",
       "       [0, 0, 0, ..., 7, 7, 7],\n",
       "       [0, 0, 0, ..., 7, 7, 7]], dtype=uint8)"
      ]
     },
     "execution_count": 27,
     "metadata": {},
     "output_type": "execute_result"
    }
   ],
   "source": [
    "depth_grayscale"
   ]
  },
  {
   "cell_type": "code",
   "execution_count": null,
   "id": "a87c6a47",
   "metadata": {},
   "outputs": [],
   "source": []
  }
 ],
 "metadata": {
  "kernelspec": {
   "display_name": "Python 3",
   "language": "python",
   "name": "python3"
  },
  "language_info": {
   "codemirror_mode": {
    "name": "ipython",
    "version": 3
   },
   "file_extension": ".py",
   "mimetype": "text/x-python",
   "name": "python",
   "nbconvert_exporter": "python",
   "pygments_lexer": "ipython3",
   "version": "3.8.5"
  }
 },
 "nbformat": 4,
 "nbformat_minor": 5
}
